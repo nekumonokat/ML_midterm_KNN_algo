{
 "cells": [
  {
   "cell_type": "markdown",
   "metadata": {},
   "source": [
    "# Introduction to NumPy\n",
    "\n",
    "## Instructions:\n",
    "* Go through the notebook and complete the tasks. \n",
    "* Make sure you understand the examples given. If you need help, refer to the documentation links provided or go to the discussion forum. \n",
    "* Save your notebooks when you are done.\n",
    "\n",
    "Note that we use the import keyword to import modules and libraries in Python. You can find out more about this <a href=\"https://docs.python.org/3/tutorial/modules.html\">here</a>.\n",
    "\n",
    "\n"
   ]
  },
  {
   "cell_type": "code",
   "execution_count": 34,
   "metadata": {},
   "outputs": [],
   "source": [
    "import numpy as np"
   ]
  },
  {
   "cell_type": "markdown",
   "metadata": {},
   "source": [
    "## 1 NumPy arrays\n",
    "\n",
    "NumPy n-dimensional arrays (referred to as ndarrays are a fundamental structure for ML in Python.\n",
    "\n",
    "### 1.1 Usage examples\n",
    "\n",
    "To create a NumPy array from list:\n",
    "\n",
    "    data1D = [6, 7, 8]\n",
    "    data1DnD = np.array(data1D)\n",
    "    print(data1D)\n",
    "    print(data1DnD)\n",
    "\n",
    "To print useful properties of our array:\n",
    "\n",
    "    print(data1DnD.shape)\n",
    "    print(data1DnD.ndim)\n",
    "    print(data1DnD.dtype)\n",
    "\n",
    "To change the type of elements:\n",
    "\n",
    "    data1DnD_float = data1DnD.astype(np.float)\n",
    "    data1DnD_string = data1DnD.astype(np.string_)\n",
    "\n",
    "For array indexing:\n",
    "\n",
    "    print(a[0])   #return the first element of ndarray a\n",
    "    print(a[:])   #return all the elements of ndarray a\n",
    "    print(a[-1])  #return the last element of ndarray a\n",
    "    print(a[:-1]) #return everything up to the last element\n",
    "    print(a[:-2]) #return everything up to the second last element\n",
    "    print(a[-2])  #return the second last element\n",
    "\n",
    "There are various ways of creating an ndarray:\n",
    "\n",
    "    a = np.array([1, 2, 3])\n",
    "    b = np.zeros((1,5))              # Create an array of all zeros\n",
    "    c = np.ones((1,5))               # Create an array of all ones\n",
    "    d = np.full((1,5), 7)            # Create an array filled with value 7\n",
    "    e = np.random.random((1,4))      # Create an array filled with random values\n",
    "    f = np.eye(3)                    # Create a 3x3 identity matrix (2D array)\n",
    "    g = np.ones((3,3,3))             # 3-Dimensional array\n",
    "\n",
    "As the name suggests, an n-dimensional array can be generalised to multiple dimensions:\n",
    "\n",
    "    A=np.array([ [1,2], [3,4] ])     # Create a 2-D array (Matrix)\n",
    "    print(A[0,1])                    # return the element on first column, second row (0,1)=2\n",
    "                                     # array indexing works as above\n",
    "\n",
    "We can reshape a vector (for example, ```v=[v1,v2,…,vN]```) to a matrix of ```N1 x N2``` dimensions (where ```N1xN2 = N```). This is particularly useful for plotting images.  As an example using numpy’s reshape method:\n",
    "\n",
    "    A = np.array([1,2,3,4,5,6])  # a 1D array \n",
    "    B = np.reshape( A, [2,3] ) # reshape as a 2D array with 2 rows and 3 columns\n",
    "    print(B)\n",
    " \n",
    "**Task 1:**\n",
    "Go through the examples above, pasting the code given in the empty cell below and verifying the results. \n",
    "Make sure you understand what this basic code does. You can find some NumPy documentation <a href=\"http://docs.scipy.org/doc/numpy/reference/generated/numpy.ndarray.html\">here</a>."
   ]
  },
  {
   "cell_type": "code",
   "execution_count": 35,
   "metadata": {},
   "outputs": [
    {
     "name": "stdout",
     "output_type": "stream",
     "text": [
      "data1D: [6, 7, 8] data1DnD: [6 7 8]\n",
      "\n",
      "data1DnD stats\n",
      "shape: (3,)\n",
      "ndim: 1\n",
      "dtype: int32\n",
      "\n",
      "data1DnD_float: [6. 7. 8.] \n",
      "data1DnD_string: [b'6' b'7' b'8']\n",
      "\n",
      "A[0,1]: 2\n",
      "\n",
      "A: [1 2 3 4 5 6] \n",
      "B: [[1 2 3]\n",
      " [4 5 6]]\n"
     ]
    },
    {
     "name": "stderr",
     "output_type": "stream",
     "text": [
      "C:\\Users\\sbgka\\AppData\\Local\\Temp\\ipykernel_17196\\1405826278.py:10: DeprecationWarning: `np.float` is a deprecated alias for the builtin `float`. To silence this warning, use `float` by itself. Doing this will not modify any behavior and is safe. If you specifically wanted the numpy scalar type, use `np.float64` here.\n",
      "Deprecated in NumPy 1.20; for more details and guidance: https://numpy.org/devdocs/release/1.20.0-notes.html#deprecations\n",
      "  data1DnD_float = data1DnD.astype(np.float)\n"
     ]
    }
   ],
   "source": [
    "data1D = [6, 7, 8]\n",
    "data1DnD = np.array(data1D)\n",
    "print(\"data1D:\", data1D, \"data1DnD:\", data1DnD)\n",
    "\n",
    "print(\"\\ndata1DnD stats\")\n",
    "print(\"shape:\", data1DnD.shape)\n",
    "print(\"ndim:\", data1DnD.ndim)\n",
    "print(\"dtype:\", data1DnD.dtype)\n",
    "\n",
    "data1DnD_float = data1DnD.astype(np.float)\n",
    "data1DnD_string = data1DnD.astype(np.string_)\n",
    "print(\"\\ndata1DnD_float:\", data1DnD_float, \"\\ndata1DnD_string:\", data1DnD_string)\n",
    "\n",
    "a = np.array([1, 2, 3])\n",
    "b = np.zeros((1,5))              # Create an array of all zeros\n",
    "c = np.ones((1,5))               # Create an array of all ones\n",
    "d = np.full((1,5), 7)            # Create an array filled with value 7\n",
    "e = np.random.random((1,4))      # Create an array filled with random values\n",
    "f = np.eye(3)                    # Create a 3x3 identity matrix (2D array)\n",
    "g = np.ones((3,3,3))             # 3-Dimensional array\n",
    "\n",
    "print()\n",
    "A = np.array([ [1,2], [3,4] ])   # Create a 2-D array (Matrix)\n",
    "print(\"A[0,1]:\", A[0,1])         # return first column, second row element\n",
    "                                 # array indexing works as above\n",
    "\n",
    "A = np.array([1,2,3,4,5,6])      # a 1D array \n",
    "B = np.reshape( A, [2,3] )       # reshape as a 2D array with 2 rows and 3 columns\n",
    "print(\"\\nA:\", A, \"\\nB:\", B)"
   ]
  },
  {
   "cell_type": "markdown",
   "metadata": {},
   "source": [
    "**Task 2:**\n",
    "In the empty cell below, create an np array called ```L``` consisting of 15 random elements.\n"
   ]
  },
  {
   "cell_type": "code",
   "execution_count": 36,
   "metadata": {},
   "outputs": [
    {
     "data": {
      "text/plain": [
       "array([0.70225369, 0.72709114, 0.90854664, 0.2822421 , 0.82240686,\n",
       "       0.66243763, 0.35289405, 0.19830312, 0.739248  , 0.65414934,\n",
       "       0.17335006, 0.61762169, 0.58409614, 0.6392203 , 0.67159592])"
      ]
     },
     "execution_count": 36,
     "metadata": {},
     "output_type": "execute_result"
    }
   ],
   "source": [
    "L = np.random.random((15))\n",
    "L"
   ]
  },
  {
   "cell_type": "markdown",
   "metadata": {},
   "source": [
    "**Task 3:**\n",
    "Reshape the array ```L``` to a matrix ```A``` that has 5 rows and 3 columns. Print the matrix to verify the result.\n"
   ]
  },
  {
   "cell_type": "code",
   "execution_count": 37,
   "metadata": {},
   "outputs": [
    {
     "data": {
      "text/plain": [
       "array([[0.70225369, 0.72709114, 0.90854664],\n",
       "       [0.2822421 , 0.82240686, 0.66243763],\n",
       "       [0.35289405, 0.19830312, 0.739248  ],\n",
       "       [0.65414934, 0.17335006, 0.61762169],\n",
       "       [0.58409614, 0.6392203 , 0.67159592]])"
      ]
     },
     "execution_count": 37,
     "metadata": {},
     "output_type": "execute_result"
    }
   ],
   "source": [
    "A = np.reshape(L, [5,3]) # model: L.reshape(5,3)\n",
    "A"
   ]
  },
  {
   "cell_type": "markdown",
   "metadata": {},
   "source": [
    "**Task 4:**\n",
    "Reshape matrix ```A``` to a matrix ```B``` that has 3 rows and 5 columns. Then, print the elements in row 0 and 1 only.\n"
   ]
  },
  {
   "cell_type": "code",
   "execution_count": 38,
   "metadata": {},
   "outputs": [
    {
     "data": {
      "text/plain": [
       "array([[0.70225369, 0.72709114, 0.90854664, 0.2822421 , 0.82240686],\n",
       "       [0.66243763, 0.35289405, 0.19830312, 0.739248  , 0.65414934]])"
      ]
     },
     "execution_count": 38,
     "metadata": {},
     "output_type": "execute_result"
    }
   ],
   "source": [
    "B = A.reshape(3,5)\n",
    "B[0:2]"
   ]
  },
  {
   "cell_type": "markdown",
   "metadata": {},
   "source": [
    "**Task: 5**\n",
    "Print all elements of ```B``` that are in row 0 and 2 <b>and</b> column 1.\n"
   ]
  },
  {
   "cell_type": "code",
   "execution_count": 39,
   "metadata": {},
   "outputs": [
    {
     "name": "stdout",
     "output_type": "stream",
     "text": [
      "My ans: 0.7270911398407661 0.6176216900308209\n",
      "\n",
      "Model ans:\n",
      " [0.72709114 0.61762169]\n"
     ]
    }
   ],
   "source": [
    "print(\"My ans:\", B[0,1], B[2,1])\n",
    "print(\"\\nModel ans:\\n\", B[[0,2],1])"
   ]
  },
  {
   "cell_type": "code",
   "execution_count": 40,
   "metadata": {},
   "outputs": [
    {
     "data": {
      "text/plain": [
       "array([[0.70225369, 0.72709114, 0.90854664],\n",
       "       [0.2822421 , 0.82240686, 0.66243763],\n",
       "       [0.35289405, 0.19830312, 0.739248  ],\n",
       "       [0.65414934, 0.17335006, 0.61762169],\n",
       "       [0.58409614, 0.6392203 , 0.67159592]])"
      ]
     },
     "execution_count": 40,
     "metadata": {},
     "output_type": "execute_result"
    }
   ],
   "source": [
    "A"
   ]
  },
  {
   "cell_type": "markdown",
   "metadata": {},
   "source": [
    "**Task 6:**\n",
    "Print all elements of ```A``` that are in the last row (see the ```[-1]``` notation above) and second to last column.\n"
   ]
  },
  {
   "cell_type": "code",
   "execution_count": 41,
   "metadata": {},
   "outputs": [
    {
     "data": {
      "text/plain": [
       "array([0.6392203])"
      ]
     },
     "execution_count": 41,
     "metadata": {},
     "output_type": "execute_result"
    }
   ],
   "source": [
    "A[[-1],-2]"
   ]
  },
  {
   "cell_type": "markdown",
   "metadata": {},
   "source": [
    "**Task 7:**\n",
    "Given the array ```Y``` below, find all indices in the array that are equal to the value 1. Use the NumPy function where to do that. Your final output should look like this: ```[1, 3, 4, 7]```.\n",
    "You can find some useful documentation to help you with this <a href=\"https://numpy.org/doc/stable/reference/generated/numpy.where.html\">here</a>.\n"
   ]
  },
  {
   "cell_type": "code",
   "execution_count": 42,
   "metadata": {},
   "outputs": [
    {
     "data": {
      "text/plain": [
       "[1, 3, 4, 7]"
      ]
     },
     "execution_count": 42,
     "metadata": {},
     "output_type": "execute_result"
    }
   ],
   "source": [
    "Y = np.array([0,1,0,1,1,2,0,1,0])\n",
    "\n",
    "idx = []\n",
    "for i in range(len(Y)):\n",
    "    if Y[i] == 1:\n",
    "        idx.append(i)\n",
    "idx\n",
    "\n",
    "# model ans: np.where(Y==1)"
   ]
  },
  {
   "cell_type": "markdown",
   "metadata": {},
   "source": [
    "**Task 8:**\n",
    "Split the array ```Y``` defined above into three arrays by using the NumPy function ```array_split```. Print to verify.\n",
    "You can find some useful documentation to help you with this <a href=\"https://numpy.org/doc/stable/reference/generated/numpy.array_split.html\">here</a>.\n"
   ]
  },
  {
   "cell_type": "code",
   "execution_count": 43,
   "metadata": {},
   "outputs": [
    {
     "data": {
      "text/plain": [
       "[array([0, 1, 0]), array([1, 1, 2]), array([0, 1, 0])]"
      ]
     },
     "execution_count": 43,
     "metadata": {},
     "output_type": "execute_result"
    }
   ],
   "source": [
    "np.array_split(Y, 3)"
   ]
  },
  {
   "cell_type": "markdown",
   "metadata": {},
   "source": [
    "**Task 9:**\n",
    "Given the array ```D``` defined below, find the indices that sort the array. Use the NumPy function ```argsort``` in order to do so. Subsequently, print the sorted array. \n",
    "The final output should look like this: ```[ 0 1 2 5 9 10 20]```.\n"
   ]
  },
  {
   "cell_type": "code",
   "execution_count": 44,
   "metadata": {},
   "outputs": [
    {
     "data": {
      "text/plain": [
       "array([ 0,  1,  2,  5,  9, 10, 20])"
      ]
     },
     "execution_count": 44,
     "metadata": {},
     "output_type": "execute_result"
    }
   ],
   "source": [
    "D = np.array([10,5,2,9,20,0,1])\n",
    "sorted_indices = np.argsort(D) # order of each number\n",
    "sorted_D = D[sorted_indices]\n",
    "sorted_D"
   ]
  },
  {
   "cell_type": "markdown",
   "metadata": {},
   "source": [
    "**Task 10:**\n",
    "Create two random 2x2 matrices ```X``` and ```Y``` (2 rows, 2 columns). Use the NumPy function ```concatenate``` in order to concatenate them and create a matrix ```Z``` that has dimensions 4x2 and a matrix ```W``` that has dimensions 2x4.\n",
    "You can find some useful documentation to help you with this <a href=\"https://docs.scipy.org/doc/numpy-1.13.0/reference/generated/numpy.concatenate.html\">here</a>.\n"
   ]
  },
  {
   "cell_type": "code",
   "execution_count": 45,
   "metadata": {},
   "outputs": [
    {
     "name": "stdout",
     "output_type": "stream",
     "text": [
      "Z: [[0.85904667 0.69807703]\n",
      " [0.81440973 0.45057274]\n",
      " [0.67625119 0.88266353]\n",
      " [0.18247443 0.36348053]] \n",
      "\n",
      "W: [[0.85904667 0.69807703 0.67625119 0.88266353]\n",
      " [0.81440973 0.45057274 0.18247443 0.36348053]]\n"
     ]
    }
   ],
   "source": [
    "X, Y = np.random.random((2,2)), np.random.random((2,2))\n",
    "Z = np.concatenate((X, Y), axis = 0)\n",
    "W = np.concatenate((X, Y), axis = 1)\n",
    "\n",
    "print(\"Z:\", Z, \"\\n\\nW:\", W)"
   ]
  },
  {
   "cell_type": "markdown",
   "metadata": {},
   "source": [
    "**Task 11:**\n",
    "Create the same matrices ```Z2=Z``` and ```W2=W``` (where ```Z``` and ```W``` are as defined above), but this time use the NumPy functions ```hstack``` and ```vstack```.\n",
    "\n",
    "You can find some useful documentation to help you with ```hstack``` <a href=\"https://docs.scipy.org/doc/numpy-1.13.0/reference/generated/numpy.hstack.html#numpy.hstack\">here</a> and ```vstack``` <a href=\"https://docs.scipy.org/doc/numpy-1.13.0/reference/generated/numpy.vstack.html#numpy.vstack\">here</a>.\n"
   ]
  },
  {
   "cell_type": "code",
   "execution_count": 46,
   "metadata": {},
   "outputs": [
    {
     "name": "stdout",
     "output_type": "stream",
     "text": [
      "Z2: [[0.85904667 0.69807703]\n",
      " [0.81440973 0.45057274]\n",
      " [0.67625119 0.88266353]\n",
      " [0.18247443 0.36348053]]\n",
      "\n",
      "W2: [[0.85904667 0.69807703 0.67625119 0.88266353]\n",
      " [0.81440973 0.45057274 0.18247443 0.36348053]]\n"
     ]
    }
   ],
   "source": [
    "Z2 = np.vstack((X, Y)) # Z is stacked vertically\n",
    "W2 = np.hstack((X, Y)) # W is stacked horizontally\n",
    "\n",
    "print(\"Z2:\", Z2)\n",
    "print(\"\\nW2:\", W2)"
   ]
  }
 ],
 "metadata": {
  "kernelspec": {
   "display_name": "Python 3 (ipykernel)",
   "language": "python",
   "name": "python3"
  },
  "language_info": {
   "codemirror_mode": {
    "name": "ipython",
    "version": 3
   },
   "file_extension": ".py",
   "mimetype": "text/x-python",
   "name": "python",
   "nbconvert_exporter": "python",
   "pygments_lexer": "ipython3",
   "version": "3.11.4"
  }
 },
 "nbformat": 4,
 "nbformat_minor": 2
}
